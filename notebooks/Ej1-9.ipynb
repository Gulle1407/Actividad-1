{
  "cells": [
    {
      "cell_type": "code",
      "execution_count": 2,
      "id": "f14e26c8",
      "metadata": {},
      "outputs": [],
      "source": [
        "import sys\n",
        "import os\n",
        "\n",
        "sys.path.append(os.path.abspath(\"../src\"))\n",
        "from Funciones import *"
      ]
    },
    {
      "cell_type": "markdown",
      "id": "f6b51084-0562-4887-8b76-b039efd34892",
      "metadata": {},
      "source": [
        "# Ejercicio 1"
      ]
    },
    {
      "cell_type": "code",
      "execution_count": 1,
      "id": "25cdf95f-d9e1-4447-8c32-a64b2b39a067",
      "metadata": {
        "trusted": true
      },
      "outputs": [
        {
          "name": "stdout",
          "output_type": "stream",
          "text": [
            "Beautiful is better than ugly\n",
            "Explicit is better than implicit\n",
            "Simple is better than complex\n",
            "Complex is better than complicated\n",
            "Flat is better than nested\n",
            "Sparse is better than dense\n",
            "Unless explicitly silenced\n",
            "Now is better than never\n",
            "Namespaces are one honking great idea -- let's do more of those!\n"
          ]
        }
      ],
      "source": [
        "zen=\"Beautiful is better than ugly.\" \\\n",
        "\"Explicit is better than implicit.\" \\\n",
        "\"Simple is better than complex.\" \\\n",
        "\"Complex is better than complicated.\" \\\n",
        "\"Flat is better than nested.\" \\\n",
        "\"Sparse is better than dense.\" \\\n",
        "\"Readability counts.\" \\\n",
        "\"Special cases aren't special enough to break the rules.\" \\\n",
        "\"Although practicality beats purity.\" \\\n",
        "\"Errors should never pass silently.\" \\\n",
        "\"Unless explicitly silenced.\" \\\n",
        "\"In the face of ambiguity, refuse the temptation to guess.\" \\\n",
        "\"There should be one-- and preferably only one --obvious way to do it.\" \\\n",
        "\"Although that way may not be obvious at first unless you're Dutch.\" \\\n",
        "\"Now is better than never.\" \\\n",
        "\"Although never is often better than *right* now.\" \\\n",
        "\"If the implementation is hard to explain, it's a bad idea.\" \\\n",
        "\"If the implementation is easy to explain, it may be a good idea.\" \\\n",
        "\"Namespaces are one honking great idea -- let's do more of those!\"\n",
        "\n",
        "#se bajan las lineas porque la pep 8 recomienda que las lineas no pasen de los 72 lineas\n",
        "\n",
        "\n",
        "lista=zen.split(\".\")\n",
        "vocales=(\"A\",\"E\",\"I\",\"O\",\"U\",\"a\",\"e\",\"i\",\"o\",\"u\")\n",
        "for i in lista:\n",
        "    a=i.split()\n",
        "    if a[1].startswith(vocales):\n",
        "        print(i)"
      ]
    },
    {
      "cell_type": "markdown",
      "id": "9381c0f8-87c0-4a13-840f-bb3b82f178b8",
      "metadata": {},
      "source": [
        "# Ejercicio 2"
      ]
    },
    {
      "cell_type": "code",
      "execution_count": null,
      "id": "64a06d96-ee08-43a8-9314-3007e65b2352",
      "metadata": {
        "trusted": true
      },
      "outputs": [],
      "source": [
        "titles = [\n",
        "\"Speedrun de Super Mario en tiempo récord\",\n",
        "\"Charla sobre desarrollo de videojuegos\",\n",
        "\"Jugando al nuevo FPS del momento con amigos\",\n",
        "\"Música en vivo: improvisaciones al piano\"\n",
        "]\n",
        "\n",
        "print(searchLargestStr(titles))"
      ]
    },
    {
      "cell_type": "markdown",
      "id": "8ec1db2c-e44d-4119-afeb-6792a9d50520",
      "metadata": {},
      "source": [
        "# Ejercicio 3"
      ]
    },
    {
      "cell_type": "code",
      "execution_count": null,
      "id": "ce26222e-9935-41e0-ae6a-d03399bb5331",
      "metadata": {
        "trusted": true
      },
      "outputs": [],
      "source": [
        "rules = \"\"\"Respeta a los demás. No se permiten insultos ni lenguaje\n",
        "ofensivo.\n",
        "Evita el spam. No publiques enlaces sospechosos o repetitivos.\n",
        "No compartas información personal.\n",
        "Usa los canales adecuados para cada tema.\n",
        "Sigue las instrucciones de los moderadores.\"\"\"\n",
        "\n",
        "lista=rules.split(\".\") #separamos reglas tomando como referencia el punto al final de cada una en una lista\n",
        "\n",
        "print(\"ingrese palabra clave a buscar\")\n",
        "clave=input() #asumo q ingresa un str\n",
        "if clave not in rules:\n",
        "    print(\"no hay la wea\")\n",
        "    exit(0)\n",
        "for i in lista:\n",
        "    if clave in i:\n",
        "        print(i)"
      ]
    },
    {
      "cell_type": "markdown",
      "id": "13807345-63e6-4e19-b079-f2ff9327d113",
      "metadata": {},
      "source": [
        "# Ejercicio 4"
      ]
    },
    {
      "cell_type": "code",
      "execution_count": null,
      "id": "47ec103a-9d78-43a1-a9d7-edc86d88cf24",
      "metadata": {
        "trusted": true
      },
      "outputs": [],
      "source": [
        "\n",
        "print(\"ingrese nombre de usuario\")\n",
        "nombre=input()\n",
        "\n",
        "print(checkUsserName(nombre))"
      ]
    },
    {
      "cell_type": "markdown",
      "id": "a7a1967a-fa42-414c-b41d-7163813341be",
      "metadata": {},
      "source": [
        "# Ejercicio 5"
      ]
    },
    {
      "cell_type": "code",
      "execution_count": null,
      "id": "ab4e81c3-fd0d-4d30-9aa5-67dffc0899cf",
      "metadata": {
        "trusted": true
      },
      "outputs": [
        {
          "name": "stdout",
          "output_type": "stream",
          "text": [
            "ingrese tiempo de reaccion\n"
          ]
        }
      ],
      "source": [
        "\n",
        "print(\"ingrese tiempo de reaccion\")\n",
        "tiempo=input()\n",
        "while True:\n",
        "    if tiempo.isdigit() and int(tiempo)>0: #aprovecho q hay cicuito corto jijijija\n",
        "            tiempo=int(tiempo)\n",
        "            break\n",
        "    print(\"ingresa bien\")\n",
        "    tiempo=input()\n",
        "\n",
        "evaluateReactionTime(tiempo)"
      ]
    },
    {
      "cell_type": "markdown",
      "id": "fa5ea7c4",
      "metadata": {},
      "source": [
        "# Ejercicio 6"
      ]
    },
    {
      "cell_type": "code",
      "execution_count": null,
      "id": "776abc58",
      "metadata": {},
      "outputs": [],
      "source": [
        "descriptions = [\n",
        "\"Streaming de música en vivo con covers y composiciones\",\n",
        "\"Charla interactiva con la audiencia sobre series y películas\",\n",
        "\"Jugamos a juegos retro y charlamos sobre su historia\",\n",
        "\"Exploramos la mejor música de los 80s y 90s\",\n",
        "\"Programa de entretenimiento con noticias y curiosidades del mundogamer\",\n",
        "\"Sesión de charla con invitados especiales del mundo del streaming\",\n",
        "\"Música en directo con improvisaciones y peticiones del chat\",\n",
        "\"Un espacio para charlar relajada sobre tecnología y cultura digital\",\n",
        "\"Exploramos el impacto de la música en los videojuegos clásicos\"\n",
        "]\n",
        "musica=0\n",
        "charla=0\n",
        "entretenimiento=0\n",
        "for i in descriptions:\n",
        "    musica+=i.count(\" música \") + i.count(\" música.\")+i.count(\"Música \") #me aseguro de que cuente si esta al inicio al final y no cuando compone una palabra ej musical,charlaban\n",
        "    charla+=i.count(\" charla \") + i.count(\" charla.\")+i.count(\"Charla \")\n",
        "    entretenimiento+=i.count(\" entretenimiento \") + i.count(\" entretenimiento.\")+i.count(\"Entretenimiento \")\n",
        "print(musica,charla,entretenimiento)"
      ]
    },
    {
      "cell_type": "markdown",
      "id": "e4310923",
      "metadata": {},
      "source": [
        "# Ejercicio 6 v2"
      ]
    },
    {
      "cell_type": "code",
      "execution_count": null,
      "id": "3cc192e3",
      "metadata": {},
      "outputs": [],
      "source": [
        "descriptions = [\n",
        "\"Streaming de música en vivo con covers y composiciones\",\n",
        "\"Charla interactiva con la audiencia sobre series y películas\",\n",
        "\"Jugamos a juegos retro y charlamos sobre su historia\",\n",
        "\"Exploramos la mejor música de los 80s y 90s\",\n",
        "\"Programa de entretenimiento con noticias y curiosidades del mundogamer\",\n",
        "\"Sesión de charla con invitados especiales del mundo del streaming\",\n",
        "\"Música en directo con improvisaciones y peticiones del chat\",\n",
        "\"Un espacio para charlar relajada sobre tecnología y cultura digital\",\n",
        "\"Exploramos el impacto de la música en los videojuegos clásicos\"\n",
        "]\n",
        "\n",
        "cadena=\" \".join(descriptions) # el \" \" puede ser reemplazado por una variable limite=\" \" | limite.join() pa mas entendimiento, el limite marca que los va a separar\n",
        "musica=cadena.count(\" música \")+cadena.count(\"Música \")+cadena.count(\" música.\")\n",
        "charla=cadena.count(\" charla \")+cadena.count(\"Charla \")+cadena.count(\" charla.\")\n",
        "entretenimiento=cadena.count(\" entretenimiento \")+cadena.count(\"Entretenimiento \")+cadena.count(\" entretenimiento.\")\n",
        "\n",
        "print(musica,charla,entretenimiento)\n"
      ]
    },
    {
      "cell_type": "markdown",
      "id": "3821dfc7",
      "metadata": {},
      "source": [
        "# Ejercicio 8"
      ]
    },
    {
      "cell_type": "code",
      "execution_count": null,
      "id": "3ce93619",
      "metadata": {},
      "outputs": [
        {
          "name": "stdout",
          "output_type": "stream",
          "text": [
            "Ingrese la primera palabra\n"
          ]
        }
      ],
      "source": [
        "print(\"Ingrese la primera palabra\")\n",
        "p1=input()\n",
        "print(\"Ingrese la segunda palabra\")\n",
        "p2=input()\n",
        "\n",
        "#ordena alfabeticamente tambien se podria verificar si tienen la mimsma len() antes\n",
        "if sorted(p1)==sorted(p2):\n",
        "      print(\"es anargama\")\n",
        "else:\n",
        "    print(\"no es anargama\")\n"
      ]
    },
    {
      "cell_type": "markdown",
      "id": "409e5eec",
      "metadata": {},
      "source": [
        "# Ejercicio 9"
      ]
    },
    {
      "cell_type": "code",
      "execution_count": 3,
      "id": "8cbb3f12",
      "metadata": {},
      "outputs": [
        {
          "name": "stdout",
          "output_type": "stream",
          "text": [
            "{'Ana Lopez', 'Sandra Morales', 'Miguel Angel', 'Juan Perez', 'Alejandro Gonzalez', 'Laura Ramos', 'Patricia Vega', 'Marta Suarez', 'Claudia Torres', 'Damian Castillo', 'Luis Rodriguez', 'Pedro Gomez', 'Gabriela Ruiz', 'Carlos Mendes', 'Maria Martinez', 'Andres Ocampo', 'Monica Herrera', 'Ricardo Fernandez'}\n"
          ]
        }
      ],
      "source": [
        "\n",
        "\n",
        "clients = [\n",
        "\" Ana López \", \"Pedro Gómez\", \"maria martínez\", \"Pedro Gómez \", \"\",\n",
        "\" Luis Rodríguez \", None, \"ana lópez\", \"JUAN PÉREZ\", \"MARTA SUÁREZ\",\n",
        "\"luis rodríguez\", \"maría martínez \", \" claudia torres\", \"CLAUDIA TORRES\",\n",
        "\" \", \"pedro gómez\", \"Juan Pérez\", None, \"Ricardo Fernández\", \"LAURA RAMOS\",\n",
        "\"carlos mendes\", \"RICARDO FERNÁNDEZ \", \" Laura ramos\", \"CARLOS MENDES\",\n",
        "\"alejandro gonzález\", \" ALEJANDRO GONZÁLEZ \", \"Patricia Vega\",\n",
        "\"patricia VEGA\", \"Andrés Ocampo\", \" andrés ocampo\", \"Monica Herrera\",\n",
        "\"MONICA HERRERA \", \"gabriela ruíz\", \"Gabriela Ruíz\", \"sandra morales\",\n",
        "\"SANDRA MORALES\", \"miguel ángel\", \"Miguel Ángel \", \" Damián Castillo\",\n",
        "\"Damián Castillo \", None, \"\", \" \"\n",
        "]\n",
        "\n",
        "deleteVoid(clients)\n",
        "\n",
        "for i in range(len(clients)):\n",
        "    if clients[i].count(\" \") >= 2:\n",
        "        clients[i] = clients[i].strip()\n",
        "    clients[i] = clients[i].lower()\n",
        "    if(evaluateAccent(clients[i])):\n",
        "        clients[i]=replaceAccent(clients[i])\n",
        "    aux=clients[i].split()\n",
        "    aux[0]=aux[0].capitalize()\n",
        "    aux[1]=aux[1].capitalize()\n",
        "    clients[i]=\" \".join(aux)\n",
        "\n",
        "newClients=set(clients)\n",
        "print(newClients)"
      ]
    }
  ],
  "metadata": {
    "kernelspec": {
      "display_name": ".venv",
      "language": "python",
      "name": "python3"
    },
    "language_info": {
      "codemirror_mode": {
        "name": "ipython",
        "version": 3
      },
      "file_extension": ".py",
      "mimetype": "text/x-python",
      "name": "python",
      "nbconvert_exporter": "python",
      "pygments_lexer": "ipython3",
      "version": "3.13.2"
    }
  },
  "nbformat": 4,
  "nbformat_minor": 5
}
